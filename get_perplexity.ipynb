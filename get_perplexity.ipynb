{
  "nbformat": 4,
  "nbformat_minor": 0,
  "metadata": {
    "colab": {
      "provenance": []
    },
    "kernelspec": {
      "name": "python3",
      "display_name": "Python 3"
    },
    "language_info": {
      "name": "python"
    }
  },
  "cells": [
    {
      "cell_type": "code",
      "source": [
        "import os\n",
        "import math\n",
        "import openai\n",
        "\n",
        "# Function to calculate perplexity from log probabilities\n",
        "def calculate_perplexity(log_probs):\n",
        "    # Filter out None values from log_probs\n",
        "    log_probs = [lp for lp in log_probs if lp is not None]\n",
        "    avg_log_prob = sum(log_probs) / len(log_probs)\n",
        "    return math.exp(-avg_log_prob)\n",
        "\n",
        "# Initialize the LiteLLM client\n",
        "client = openai.OpenAI(\n",
        "    api_key=\"API_KEY\",\n",
        "    base_url=\"https://cmu.litellm.ai\",\n",
        ")\n",
        "\n",
        "# Define the prompt\n",
        "prompt = \"What is the capital of Australia?\"\n",
        "\n",
        "# Make a request to a model that supports logprobs (e.g., text-davinci-003)\n",
        "response = client.completions.create(\n",
        "    model=\"davinci-002\",  # Ensure this model supports logprobs\n",
        "    prompt=prompt,\n",
        "    max_tokens=0,  # We only want logprobs for the prompt\n",
        "    logprobs=1,  # Enable log probabilities\n",
        "    echo=True  # Include input tokens in the response\n",
        ")\n",
        "\n",
        "# Extract tokens and log probabilities from the response\n",
        "try:\n",
        "    # Accessing response attributes correctly\n",
        "    choices = response.choices  # Access choices attribute of the response object\n",
        "    tokens = choices[0].logprobs.tokens  # Tokens from logprobs\n",
        "    log_probs = choices[0].logprobs.token_logprobs  # Log probabilities for tokens\n",
        "\n",
        "    # Calculate perplexity\n",
        "    perplexity = calculate_perplexity(log_probs)\n",
        "\n",
        "    # Display results\n",
        "    print(\"Tokens:\", tokens)\n",
        "    print(\"Log Probabilities:\", log_probs)\n",
        "    print(f\"Perplexity: {perplexity}\")\n",
        "\n",
        "except AttributeError as e:\n",
        "    print(f\"Error accessing attributes: {e}\")\n",
        "    print(\"Response structure:\", vars(response))  # Print the full response structure for debugging"
      ],
      "metadata": {
        "colab": {
          "base_uri": "https://localhost:8080/"
        },
        "id": "gLlVFDgJWQKZ",
        "outputId": "8a7a11c8-c5f3-4c4e-e18e-0a080abbc4aa"
      },
      "execution_count": 15,
      "outputs": [
        {
          "output_type": "stream",
          "name": "stdout",
          "text": [
            "Tokens: ['What', ' is', ' the', ' capital', ' of', ' Australia', '?']\n",
            "Log Probabilities: [None, -1.8419299, -1.1791059, -6.0201087, -0.20033842, -3.875493, -1.509814]\n",
            "Perplexity: 11.44780856523511\n"
          ]
        }
      ]
    }
  ]
}